{
 "cells": [
  {
   "cell_type": "code",
   "execution_count": 23,
   "metadata": {},
   "outputs": [
    {
     "name": "stdout",
     "output_type": "stream",
     "text": [
      "0xfe\n",
      "0xc0c4\n",
      "0xcc3a2420\n"
     ]
    }
   ],
   "source": [
    "# @file gmul\n",
    "# @author spike\n",
    "def gmul(a, b, m, order = 16):\n",
    "    p = 0\n",
    "    for i in range(0,order):\n",
    "        if (b % 2 == 1):\n",
    "            p ^= a\n",
    "        if (a // (2**(order-1)) == 1):\n",
    "            a = ((a * 2)) ^ m;\n",
    "        else:\n",
    "            a = (a * 2)\n",
    "        b = b // 2\n",
    "    return p\n",
    "\n",
    "print(hex(gmul(0x57, 0x13, 0x11b, order = 8)))\n",
    "print(hex(gmul(0x1122, 0x0044, 0x13333)))\n",
    "print(hex(gmul(0x11223344, 0x55667788, 0x199990000, order = 32)))"
   ]
  },
  {
   "cell_type": "code",
   "execution_count": null,
   "metadata": {},
   "outputs": [],
   "source": []
  }
 ],
 "metadata": {
  "kernelspec": {
   "display_name": "Python 3",
   "language": "python",
   "name": "python3"
  },
  "language_info": {
   "codemirror_mode": {
    "name": "ipython",
    "version": 3
   },
   "file_extension": ".py",
   "mimetype": "text/x-python",
   "name": "python",
   "nbconvert_exporter": "python",
   "pygments_lexer": "ipython3",
   "version": "3.6.5"
  }
 },
 "nbformat": 4,
 "nbformat_minor": 2
}
