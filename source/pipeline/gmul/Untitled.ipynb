{
 "cells": [
  {
   "cell_type": "code",
   "execution_count": 23,
   "metadata": {},
   "outputs": [
    {
     "name": "stdout",
     "output_type": "stream",
     "text": [
      "0xfe\n",
      "0xc0c4\n",
      "0xcc3a2420\n"
     ]
    }
   ],
   "source": [
    "# @file gmul\n",
    "# @author spike\n",
    "def gmul(a, b, m, order = 16):\n",
    "    p = 0\n",
    "    for i in range(0,order):\n",
    "        if (b % 2 == 1):\n",
    "            p ^= a\n",
    "        if (a // (2**(order-1)) == 1):\n",
    "            a = ((a * 2)) ^ m;\n",
    "        else:\n",
    "            a = (a * 2)\n",
    "        b = b // 2\n",
    "    return p\n",
    "\n",
    "print(hex(gmul(0x57, 0x13, 0x11b, order = 8)))\n",
    "print(hex(gmul(0x1122, 0x0044, 0x13333)))\n",
    "print(hex(gmul(0x11223344, 0x55667788, 0x199990000, order = 32)))"
   ]
  },
  {
   "cell_type": "code",
   "execution_count": 1,
   "metadata": {},
   "outputs": [
    {
     "name": "stdout",
     "output_type": "stream",
     "text": [
      "0xfe\n",
      "0xc0c4\n",
      "0xcc3a2420\n"
     ]
    }
   ],
   "source": [
    "def gmul(a, b, m, order = 16):\n",
    "    p = 0\n",
    "    for i in range(0,order):\n",
    "        if (b % 2 == 1):\n",
    "            p ^= a\n",
    "        if ((a >> (order-1)) == 1):\n",
    "            a = ((a * 2)) ^ m;\n",
    "        else:\n",
    "            a = (a * 2)\n",
    "        b = b >> 1 \n",
    "    return p\n",
    "\n",
    "print(hex(gmul(0x57, 0x13, 0x11b, order = 8)))\n",
    "print(hex(gmul(0x1122, 0x0044, 0x13333)))\n",
    "print(hex(gmul(0x11223344, 0x55667788, 0x199990000, order = 32)))"
   ]
  },
  {
   "cell_type": "code",
   "execution_count": 10,
   "metadata": {},
   "outputs": [
    {
     "name": "stdout",
     "output_type": "stream",
     "text": [
      "1\n"
     ]
    }
   ],
   "source": [
    "print(3//2)"
   ]
  },
  {
   "cell_type": "code",
   "execution_count": 6,
   "metadata": {},
   "outputs": [
    {
     "name": "stdout",
     "output_type": "stream",
     "text": [
      "0, 1, 2, 3, 4, 5, 6, 7, 8, 9, 10, 11, 12, 13, 14, 15, 16, 17, 18, 19, 20, 21, 22, 23, 24, 25, 26, 27, 28, 29, 30, 31, 32, 33, 34, 35, 36, 37, 38, 39, 40, 41, 42, 43, 44, 45, 46, 47, 48, 49, 50, 51, 52, 53, 54, 55, 56, 57, 58, 59, 60, 61, 62, 63, "
     ]
    }
   ],
   "source": [
    "for i in range(0,64):\n",
    "    print(str(i) + \",\", end=\" \")"
   ]
  },
  {
   "cell_type": "code",
   "execution_count": null,
   "metadata": {},
   "outputs": [],
   "source": []
  }
 ],
 "metadata": {
  "kernelspec": {
   "display_name": "Python 3",
   "language": "python",
   "name": "python3"
  },
  "language_info": {
   "codemirror_mode": {
    "name": "ipython",
    "version": 3
   },
   "file_extension": ".py",
   "mimetype": "text/x-python",
   "name": "python",
   "nbconvert_exporter": "python",
   "pygments_lexer": "ipython3",
   "version": "3.6.5"
  }
 },
 "nbformat": 4,
 "nbformat_minor": 2
}
